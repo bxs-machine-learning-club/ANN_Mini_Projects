{
  "nbformat": 4,
  "nbformat_minor": 0,
  "metadata": {
    "kernelspec": {
      "display_name": "Python 3",
      "language": "python",
      "name": "python3"
    },
    "language_info": {
      "codemirror_mode": {
        "name": "ipython",
        "version": 3
      },
      "file_extension": ".py",
      "mimetype": "text/x-python",
      "name": "python",
      "nbconvert_exporter": "python",
      "pygments_lexer": "ipython3",
      "version": "3.7.4"
    },
    "colab": {
      "name": "ph_classifier.ipynb",
      "provenance": [],
      "toc_visible": true,
      "include_colab_link": true
    }
  },
  "cells": [
    {
      "cell_type": "markdown",
      "metadata": {
        "id": "view-in-github",
        "colab_type": "text"
      },
      "source": [
        "<a href=\"https://colab.research.google.com/github/bxs-machine-learning-club/ANN_Mini_Projects/blob/master/ph_classifier.ipynb\" target=\"_parent\"><img src=\"https://colab.research.google.com/assets/colab-badge.svg\" alt=\"Open In Colab\"/></a>"
      ]
    },
    {
      "cell_type": "markdown",
      "metadata": {
        "id": "iAiuAPe_MR0L",
        "colab_type": "text"
      },
      "source": [
        "# A 'Basic' Deep Learning Application\n",
        "This applies deep learning to predict the type of pH given the color of the pH paper found. Credits to **Tajwar Rahman** for showing me where he found his data and his preprocessing.\n",
        "\n",
        "™ ℠ Michael Batavia (ML Club) 2020"
      ]
    },
    {
      "cell_type": "code",
      "metadata": {
        "id": "_5c_pneLCWVo",
        "colab_type": "code",
        "colab": {}
      },
      "source": [
        "import numpy as np\n",
        "import matplotlib.pyplot as plt\n",
        "import pandas as pd\n",
        "from sklearn.model_selection import train_test_split\n",
        "from sklearn.preprocessing import scale\n",
        "import tensorflow.keras as keras\n",
        "from keras.utils import to_categorical\n",
        "from keras.models import Sequential\n",
        "from keras.layers import Dense, Activation, Dropout, BatchNormalization\n",
        "from keras.initializers import he_normal\n",
        "from keras.callbacks import ModelCheckpoint\n",
        "from keras.callbacks import EarlyStopping\n",
        "from keras.regularizers import l2"
      ],
      "execution_count": 0,
      "outputs": []
    },
    {
      "cell_type": "markdown",
      "metadata": {
        "id": "Jv4US4PwMIZm",
        "colab_type": "text"
      },
      "source": [
        "## Preprocessing\n",
        "Looking at the data and removing all **null** values within it. Preparation for the model."
      ]
    },
    {
      "cell_type": "code",
      "metadata": {
        "id": "rwGhaUE5CWVu",
        "colab_type": "code",
        "colab": {}
      },
      "source": [
        "df = pd.read_csv('ph-data.csv')"
      ],
      "execution_count": 0,
      "outputs": []
    },
    {
      "cell_type": "code",
      "metadata": {
        "id": "5naYh9XyCWV0",
        "colab_type": "code",
        "outputId": "97b0f74d-ba0f-4ea7-fe73-8aea5c0930cd",
        "colab": {
          "base_uri": "https://localhost:8080/",
          "height": 102
        }
      },
      "source": [
        "df.isnull().sum()"
      ],
      "execution_count": 0,
      "outputs": [
        {
          "output_type": "execute_result",
          "data": {
            "text/plain": [
              "blue     0\n",
              "green    0\n",
              "red      0\n",
              "label    0\n",
              "dtype: int64"
            ]
          },
          "metadata": {
            "tags": []
          },
          "execution_count": 374
        }
      ]
    },
    {
      "cell_type": "code",
      "metadata": {
        "id": "OjHf4aULCWV9",
        "colab_type": "code",
        "outputId": "561a2cdd-1ad0-4559-ae15-30fff9baf19f",
        "colab": {
          "base_uri": "https://localhost:8080/",
          "height": 419
        }
      },
      "source": [
        "df"
      ],
      "execution_count": 0,
      "outputs": [
        {
          "output_type": "execute_result",
          "data": {
            "text/html": [
              "<div>\n",
              "<style scoped>\n",
              "    .dataframe tbody tr th:only-of-type {\n",
              "        vertical-align: middle;\n",
              "    }\n",
              "\n",
              "    .dataframe tbody tr th {\n",
              "        vertical-align: top;\n",
              "    }\n",
              "\n",
              "    .dataframe thead th {\n",
              "        text-align: right;\n",
              "    }\n",
              "</style>\n",
              "<table border=\"1\" class=\"dataframe\">\n",
              "  <thead>\n",
              "    <tr style=\"text-align: right;\">\n",
              "      <th></th>\n",
              "      <th>blue</th>\n",
              "      <th>green</th>\n",
              "      <th>red</th>\n",
              "      <th>label</th>\n",
              "    </tr>\n",
              "  </thead>\n",
              "  <tbody>\n",
              "    <tr>\n",
              "      <th>0</th>\n",
              "      <td>36</td>\n",
              "      <td>27</td>\n",
              "      <td>231</td>\n",
              "      <td>0</td>\n",
              "    </tr>\n",
              "    <tr>\n",
              "      <th>1</th>\n",
              "      <td>36</td>\n",
              "      <td>84</td>\n",
              "      <td>250</td>\n",
              "      <td>1</td>\n",
              "    </tr>\n",
              "    <tr>\n",
              "      <th>2</th>\n",
              "      <td>37</td>\n",
              "      <td>164</td>\n",
              "      <td>255</td>\n",
              "      <td>2</td>\n",
              "    </tr>\n",
              "    <tr>\n",
              "      <th>3</th>\n",
              "      <td>22</td>\n",
              "      <td>205</td>\n",
              "      <td>255</td>\n",
              "      <td>3</td>\n",
              "    </tr>\n",
              "    <tr>\n",
              "      <th>4</th>\n",
              "      <td>38</td>\n",
              "      <td>223</td>\n",
              "      <td>221</td>\n",
              "      <td>4</td>\n",
              "    </tr>\n",
              "    <tr>\n",
              "      <th>...</th>\n",
              "      <td>...</td>\n",
              "      <td>...</td>\n",
              "      <td>...</td>\n",
              "      <td>...</td>\n",
              "    </tr>\n",
              "    <tr>\n",
              "      <th>648</th>\n",
              "      <td>201</td>\n",
              "      <td>123</td>\n",
              "      <td>0</td>\n",
              "      <td>10</td>\n",
              "    </tr>\n",
              "    <tr>\n",
              "      <th>649</th>\n",
              "      <td>203</td>\n",
              "      <td>51</td>\n",
              "      <td>46</td>\n",
              "      <td>11</td>\n",
              "    </tr>\n",
              "    <tr>\n",
              "      <th>650</th>\n",
              "      <td>169</td>\n",
              "      <td>62</td>\n",
              "      <td>48</td>\n",
              "      <td>12</td>\n",
              "    </tr>\n",
              "    <tr>\n",
              "      <th>651</th>\n",
              "      <td>173</td>\n",
              "      <td>37</td>\n",
              "      <td>79</td>\n",
              "      <td>13</td>\n",
              "    </tr>\n",
              "    <tr>\n",
              "      <th>652</th>\n",
              "      <td>131</td>\n",
              "      <td>2</td>\n",
              "      <td>77</td>\n",
              "      <td>14</td>\n",
              "    </tr>\n",
              "  </tbody>\n",
              "</table>\n",
              "<p>653 rows × 4 columns</p>\n",
              "</div>"
            ],
            "text/plain": [
              "     blue  green  red  label\n",
              "0      36     27  231      0\n",
              "1      36     84  250      1\n",
              "2      37    164  255      2\n",
              "3      22    205  255      3\n",
              "4      38    223  221      4\n",
              "..    ...    ...  ...    ...\n",
              "648   201    123    0     10\n",
              "649   203     51   46     11\n",
              "650   169     62   48     12\n",
              "651   173     37   79     13\n",
              "652   131      2   77     14\n",
              "\n",
              "[653 rows x 4 columns]"
            ]
          },
          "metadata": {
            "tags": []
          },
          "execution_count": 375
        }
      ]
    },
    {
      "cell_type": "code",
      "metadata": {
        "id": "eILIW66_CWWD",
        "colab_type": "code",
        "colab": {}
      },
      "source": [
        "x_train = df.drop(['label'], axis = 1)\n",
        "y_train = to_categorical(df['label'])"
      ],
      "execution_count": 0,
      "outputs": []
    },
    {
      "cell_type": "code",
      "metadata": {
        "id": "Nap0-vbJCWWL",
        "colab_type": "code",
        "colab": {}
      },
      "source": [
        "x_train, x_test, y_train, y_test = train_test_split(x_train, y_train)\n",
        "x_train.shape\n",
        "\n",
        "x_test, x_val, y_test, y_val = train_test_split(x_test, y_test)"
      ],
      "execution_count": 0,
      "outputs": []
    },
    {
      "cell_type": "markdown",
      "metadata": {
        "id": "h3K26SCRLETU",
        "colab_type": "text"
      },
      "source": [
        "## Building The Model\n",
        "Standard Sequential Model"
      ]
    },
    {
      "cell_type": "code",
      "metadata": {
        "id": "MIsHhch5CWWP",
        "colab_type": "code",
        "outputId": "ac83faa6-7675-48ee-c938-79f8a4f980a3",
        "colab": {
          "base_uri": "https://localhost:8080/",
          "height": 527
        }
      },
      "source": [
        "model = Sequential([\n",
        "    Dense(16, input_shape = (3,), bias_initializer=\"zeros\", kernel_initializer=he_normal(42),\n",
        "          kernel_regularizer=l2()),\n",
        "    Activation('relu'),\n",
        "    Dense(32, kernel_regularizer=l2()),\n",
        "    Activation('relu'),\n",
        "    Dense(64, kernel_regularizer=l2()),\n",
        "    Activation('relu'),\n",
        "    Dropout(.4),\n",
        "    Dense(128, kernel_regularizer=l2()),\n",
        "    Activation('relu'),\n",
        "    Dense(15, kernel_regularizer=l2()),\n",
        "    Activation('softmax')\n",
        "])\n",
        "\n",
        "model.summary()"
      ],
      "execution_count": 0,
      "outputs": [
        {
          "output_type": "stream",
          "text": [
            "Model: \"sequential_30\"\n",
            "_________________________________________________________________\n",
            "Layer (type)                 Output Shape              Param #   \n",
            "=================================================================\n",
            "dense_147 (Dense)            (None, 16)                64        \n",
            "_________________________________________________________________\n",
            "activation_146 (Activation)  (None, 16)                0         \n",
            "_________________________________________________________________\n",
            "dense_148 (Dense)            (None, 32)                544       \n",
            "_________________________________________________________________\n",
            "activation_147 (Activation)  (None, 32)                0         \n",
            "_________________________________________________________________\n",
            "dense_149 (Dense)            (None, 64)                2112      \n",
            "_________________________________________________________________\n",
            "activation_148 (Activation)  (None, 64)                0         \n",
            "_________________________________________________________________\n",
            "dropout_35 (Dropout)         (None, 64)                0         \n",
            "_________________________________________________________________\n",
            "dense_150 (Dense)            (None, 128)               8320      \n",
            "_________________________________________________________________\n",
            "activation_149 (Activation)  (None, 128)               0         \n",
            "_________________________________________________________________\n",
            "dense_151 (Dense)            (None, 15)                1935      \n",
            "_________________________________________________________________\n",
            "activation_150 (Activation)  (None, 15)                0         \n",
            "=================================================================\n",
            "Total params: 12,975\n",
            "Trainable params: 12,975\n",
            "Non-trainable params: 0\n",
            "_________________________________________________________________\n"
          ],
          "name": "stdout"
        }
      ]
    },
    {
      "cell_type": "code",
      "metadata": {
        "id": "vH3VvusxFSDM",
        "colab_type": "code",
        "colab": {}
      },
      "source": [
        "callbacks = []\n",
        "callbacks.append(EarlyStopping('val_acc', patience=50, restore_best_weights=True))\n",
        "callbacks.append(ModelCheckpoint(\"best-weights.hdf5\", monitor='val_acc', verbose=1, save_best_only=True, period=10))"
      ],
      "execution_count": 0,
      "outputs": []
    },
    {
      "cell_type": "code",
      "metadata": {
        "id": "MY1DS2n2CWWS",
        "colab_type": "code",
        "colab": {}
      },
      "source": [
        "model.compile(optimizer = 'adam',\n",
        "             loss = 'categorical_crossentropy',\n",
        "             metrics = ['accuracy'])"
      ],
      "execution_count": 0,
      "outputs": []
    },
    {
      "cell_type": "code",
      "metadata": {
        "id": "odmZRy4uCWWU",
        "colab_type": "code",
        "outputId": "eeefd6b1-7132-4bdd-fbc1-9eda649a6205",
        "colab": {
          "base_uri": "https://localhost:8080/",
          "height": 1000
        }
      },
      "source": [
        "h = model.fit(x_train, y_train, epochs = 500, batch_size = 32, validation_data=(x_val, y_val), callbacks=callbacks)"
      ],
      "execution_count": 0,
      "outputs": [
        {
          "output_type": "stream",
          "text": [
            "Train on 489 samples, validate on 41 samples\n",
            "Epoch 1/500\n",
            "489/489 [==============================] - 3s 6ms/step - loss: 16.6008 - acc: 0.0716 - val_loss: 16.7647 - val_acc: 0.0732\n",
            "Epoch 2/500\n",
            "489/489 [==============================] - 0s 104us/step - loss: 15.4961 - acc: 0.1227 - val_loss: 14.7196 - val_acc: 0.1220\n",
            "Epoch 3/500\n",
            "489/489 [==============================] - 0s 76us/step - loss: 14.9786 - acc: 0.1452 - val_loss: 15.8104 - val_acc: 0.1220\n",
            "Epoch 4/500\n",
            "489/489 [==============================] - 0s 81us/step - loss: 14.1758 - acc: 0.2045 - val_loss: 15.7323 - val_acc: 0.1220\n",
            "Epoch 5/500\n",
            "489/489 [==============================] - 0s 70us/step - loss: 14.3172 - acc: 0.1861 - val_loss: 15.6695 - val_acc: 0.1220\n",
            "Epoch 6/500\n",
            "489/489 [==============================] - 0s 84us/step - loss: 14.0561 - acc: 0.1984 - val_loss: 15.6197 - val_acc: 0.1220\n",
            "Epoch 7/500\n",
            "489/489 [==============================] - 0s 71us/step - loss: 13.7061 - acc: 0.2025 - val_loss: 13.5974 - val_acc: 0.2439\n",
            "Epoch 8/500\n",
            "489/489 [==============================] - 0s 68us/step - loss: 13.3175 - acc: 0.2209 - val_loss: 12.9358 - val_acc: 0.2195\n",
            "Epoch 9/500\n",
            "489/489 [==============================] - 0s 80us/step - loss: 12.9263 - acc: 0.2352 - val_loss: 11.8894 - val_acc: 0.2195\n",
            "Epoch 10/500\n",
            "489/489 [==============================] - 0s 73us/step - loss: 13.0345 - acc: 0.2188 - val_loss: 12.0038 - val_acc: 0.3171\n",
            "\n",
            "Epoch 00010: val_acc improved from -inf to 0.31707, saving model to best-weights.hdf5\n",
            "Epoch 11/500\n",
            "489/489 [==============================] - 0s 88us/step - loss: 12.9862 - acc: 0.2270 - val_loss: 14.7694 - val_acc: 0.1220\n",
            "Epoch 12/500\n",
            "489/489 [==============================] - 0s 77us/step - loss: 12.2401 - acc: 0.2802 - val_loss: 12.9204 - val_acc: 0.2439\n",
            "Epoch 13/500\n",
            "489/489 [==============================] - 0s 69us/step - loss: 11.7368 - acc: 0.2986 - val_loss: 12.0576 - val_acc: 0.2927\n",
            "Epoch 14/500\n",
            "489/489 [==============================] - 0s 71us/step - loss: 11.7603 - acc: 0.2720 - val_loss: 12.8640 - val_acc: 0.2195\n",
            "Epoch 15/500\n",
            "489/489 [==============================] - 0s 77us/step - loss: 11.3631 - acc: 0.3108 - val_loss: 12.5881 - val_acc: 0.2195\n",
            "Epoch 16/500\n",
            "489/489 [==============================] - 0s 66us/step - loss: 10.6560 - acc: 0.2965 - val_loss: 11.3672 - val_acc: 0.3171\n",
            "Epoch 17/500\n",
            "489/489 [==============================] - 0s 67us/step - loss: 10.1064 - acc: 0.3211 - val_loss: 9.7428 - val_acc: 0.3659\n",
            "Epoch 18/500\n",
            "489/489 [==============================] - 0s 68us/step - loss: 10.0279 - acc: 0.3252 - val_loss: 8.4650 - val_acc: 0.4146\n",
            "Epoch 19/500\n",
            "489/489 [==============================] - 0s 74us/step - loss: 9.8997 - acc: 0.3088 - val_loss: 10.7237 - val_acc: 0.3171\n",
            "Epoch 20/500\n",
            "489/489 [==============================] - 0s 78us/step - loss: 8.9028 - acc: 0.3395 - val_loss: 8.6416 - val_acc: 0.4390\n",
            "\n",
            "Epoch 00020: val_acc improved from 0.31707 to 0.43902, saving model to best-weights.hdf5\n",
            "Epoch 21/500\n",
            "489/489 [==============================] - 0s 87us/step - loss: 8.6708 - acc: 0.3149 - val_loss: 8.5512 - val_acc: 0.4878\n",
            "Epoch 22/500\n",
            "489/489 [==============================] - 0s 78us/step - loss: 8.2527 - acc: 0.3579 - val_loss: 8.4439 - val_acc: 0.4390\n",
            "Epoch 23/500\n",
            "489/489 [==============================] - 0s 74us/step - loss: 7.6140 - acc: 0.3885 - val_loss: 7.8070 - val_acc: 0.4390\n",
            "Epoch 24/500\n",
            "489/489 [==============================] - 0s 76us/step - loss: 5.9344 - acc: 0.3640 - val_loss: 3.4608 - val_acc: 0.4390\n",
            "Epoch 25/500\n",
            "489/489 [==============================] - 0s 67us/step - loss: 4.1026 - acc: 0.3620 - val_loss: 3.6714 - val_acc: 0.5366\n",
            "Epoch 26/500\n",
            "489/489 [==============================] - 0s 65us/step - loss: 3.2430 - acc: 0.4213 - val_loss: 2.6240 - val_acc: 0.5610\n",
            "Epoch 27/500\n",
            "489/489 [==============================] - 0s 67us/step - loss: 2.7630 - acc: 0.4417 - val_loss: 2.5071 - val_acc: 0.5854\n",
            "Epoch 28/500\n",
            "489/489 [==============================] - 0s 68us/step - loss: 2.7014 - acc: 0.4949 - val_loss: 2.5249 - val_acc: 0.6098\n",
            "Epoch 29/500\n",
            "489/489 [==============================] - 0s 92us/step - loss: 2.6196 - acc: 0.5010 - val_loss: 2.3425 - val_acc: 0.5854\n",
            "Epoch 30/500\n",
            "489/489 [==============================] - 0s 86us/step - loss: 2.6089 - acc: 0.5194 - val_loss: 2.3981 - val_acc: 0.5610\n",
            "\n",
            "Epoch 00030: val_acc improved from 0.43902 to 0.56098, saving model to best-weights.hdf5\n",
            "Epoch 31/500\n",
            "489/489 [==============================] - 0s 75us/step - loss: 2.5450 - acc: 0.5112 - val_loss: 2.3780 - val_acc: 0.5854\n",
            "Epoch 32/500\n",
            "489/489 [==============================] - 0s 73us/step - loss: 2.5256 - acc: 0.5542 - val_loss: 2.4180 - val_acc: 0.5366\n",
            "Epoch 33/500\n",
            "489/489 [==============================] - 0s 74us/step - loss: 2.4750 - acc: 0.5419 - val_loss: 2.3460 - val_acc: 0.5854\n",
            "Epoch 34/500\n",
            "489/489 [==============================] - 0s 78us/step - loss: 2.4627 - acc: 0.5562 - val_loss: 2.2383 - val_acc: 0.6341\n",
            "Epoch 35/500\n",
            "489/489 [==============================] - 0s 69us/step - loss: 2.4114 - acc: 0.5521 - val_loss: 2.3037 - val_acc: 0.5366\n",
            "Epoch 36/500\n",
            "489/489 [==============================] - 0s 81us/step - loss: 2.3773 - acc: 0.5849 - val_loss: 2.2936 - val_acc: 0.5854\n",
            "Epoch 37/500\n",
            "489/489 [==============================] - 0s 88us/step - loss: 2.3866 - acc: 0.5501 - val_loss: 2.2072 - val_acc: 0.5610\n",
            "Epoch 38/500\n",
            "489/489 [==============================] - 0s 78us/step - loss: 2.4319 - acc: 0.5358 - val_loss: 2.2136 - val_acc: 0.6585\n",
            "Epoch 39/500\n",
            "489/489 [==============================] - 0s 80us/step - loss: 2.3467 - acc: 0.6176 - val_loss: 2.2035 - val_acc: 0.5610\n",
            "Epoch 40/500\n",
            "489/489 [==============================] - 0s 74us/step - loss: 2.3751 - acc: 0.5767 - val_loss: 2.2214 - val_acc: 0.6098\n",
            "\n",
            "Epoch 00040: val_acc improved from 0.56098 to 0.60976, saving model to best-weights.hdf5\n",
            "Epoch 41/500\n",
            "489/489 [==============================] - 0s 75us/step - loss: 2.2904 - acc: 0.6115 - val_loss: 2.2185 - val_acc: 0.5610\n",
            "Epoch 42/500\n",
            "489/489 [==============================] - 0s 82us/step - loss: 2.3455 - acc: 0.5746 - val_loss: 2.2486 - val_acc: 0.5854\n",
            "Epoch 43/500\n",
            "489/489 [==============================] - 0s 77us/step - loss: 2.2769 - acc: 0.5930 - val_loss: 2.1926 - val_acc: 0.5610\n",
            "Epoch 44/500\n",
            "489/489 [==============================] - 0s 80us/step - loss: 2.3435 - acc: 0.6094 - val_loss: 2.2156 - val_acc: 0.5854\n",
            "Epoch 45/500\n",
            "489/489 [==============================] - 0s 81us/step - loss: 2.3317 - acc: 0.5746 - val_loss: 2.2169 - val_acc: 0.5854\n",
            "Epoch 46/500\n",
            "489/489 [==============================] - 0s 89us/step - loss: 2.2438 - acc: 0.5767 - val_loss: 2.1527 - val_acc: 0.6098\n",
            "Epoch 47/500\n",
            "489/489 [==============================] - 0s 87us/step - loss: 2.1993 - acc: 0.5992 - val_loss: 2.1223 - val_acc: 0.5610\n",
            "Epoch 48/500\n",
            "489/489 [==============================] - 0s 83us/step - loss: 2.2005 - acc: 0.6115 - val_loss: 2.1090 - val_acc: 0.5610\n",
            "Epoch 49/500\n",
            "489/489 [==============================] - 0s 83us/step - loss: 2.1366 - acc: 0.6339 - val_loss: 2.2239 - val_acc: 0.5854\n",
            "Epoch 50/500\n",
            "489/489 [==============================] - 0s 77us/step - loss: 2.2427 - acc: 0.6258 - val_loss: 2.2089 - val_acc: 0.5610\n",
            "\n",
            "Epoch 00050: val_acc did not improve from 0.60976\n",
            "Epoch 51/500\n",
            "489/489 [==============================] - 0s 76us/step - loss: 2.2231 - acc: 0.5869 - val_loss: 2.2220 - val_acc: 0.5854\n",
            "Epoch 52/500\n",
            "489/489 [==============================] - 0s 75us/step - loss: 2.1782 - acc: 0.6258 - val_loss: 2.1991 - val_acc: 0.5610\n",
            "Epoch 53/500\n",
            "489/489 [==============================] - 0s 77us/step - loss: 2.1624 - acc: 0.6094 - val_loss: 2.1376 - val_acc: 0.6098\n",
            "Epoch 54/500\n",
            "489/489 [==============================] - 0s 86us/step - loss: 2.2196 - acc: 0.5951 - val_loss: 2.1325 - val_acc: 0.5854\n",
            "Epoch 55/500\n",
            "489/489 [==============================] - 0s 77us/step - loss: 2.1120 - acc: 0.6155 - val_loss: 2.2366 - val_acc: 0.6098\n",
            "Epoch 56/500\n",
            "489/489 [==============================] - 0s 77us/step - loss: 2.1982 - acc: 0.6237 - val_loss: 2.1413 - val_acc: 0.6098\n",
            "Epoch 57/500\n",
            "489/489 [==============================] - 0s 85us/step - loss: 2.1518 - acc: 0.6135 - val_loss: 2.1509 - val_acc: 0.6341\n",
            "Epoch 58/500\n",
            "489/489 [==============================] - 0s 75us/step - loss: 2.1151 - acc: 0.6094 - val_loss: 2.0896 - val_acc: 0.5854\n",
            "Epoch 59/500\n",
            "489/489 [==============================] - 0s 80us/step - loss: 2.1326 - acc: 0.6074 - val_loss: 2.1068 - val_acc: 0.5854\n",
            "Epoch 60/500\n",
            "489/489 [==============================] - 0s 82us/step - loss: 2.1498 - acc: 0.6217 - val_loss: 2.1034 - val_acc: 0.5854\n",
            "\n",
            "Epoch 00060: val_acc did not improve from 0.60976\n",
            "Epoch 61/500\n",
            "489/489 [==============================] - 0s 83us/step - loss: 2.1555 - acc: 0.6012 - val_loss: 2.0846 - val_acc: 0.6098\n",
            "Epoch 62/500\n",
            "489/489 [==============================] - 0s 80us/step - loss: 2.1363 - acc: 0.6564 - val_loss: 2.0917 - val_acc: 0.5366\n",
            "Epoch 63/500\n",
            "489/489 [==============================] - 0s 75us/step - loss: 2.1161 - acc: 0.5992 - val_loss: 2.0557 - val_acc: 0.6098\n",
            "Epoch 64/500\n",
            "489/489 [==============================] - 0s 77us/step - loss: 2.1778 - acc: 0.5992 - val_loss: 2.0635 - val_acc: 0.5610\n",
            "Epoch 65/500\n",
            "489/489 [==============================] - 0s 83us/step - loss: 2.0962 - acc: 0.5992 - val_loss: 2.0664 - val_acc: 0.6098\n",
            "Epoch 66/500\n",
            "489/489 [==============================] - 0s 76us/step - loss: 2.0679 - acc: 0.6442 - val_loss: 2.0628 - val_acc: 0.5610\n",
            "Epoch 67/500\n",
            "489/489 [==============================] - 0s 79us/step - loss: 2.0966 - acc: 0.6217 - val_loss: 2.0926 - val_acc: 0.5610\n",
            "Epoch 68/500\n",
            "489/489 [==============================] - 0s 79us/step - loss: 2.1096 - acc: 0.6462 - val_loss: 2.1013 - val_acc: 0.6585\n",
            "Epoch 69/500\n",
            "489/489 [==============================] - 0s 83us/step - loss: 2.1129 - acc: 0.6176 - val_loss: 2.1196 - val_acc: 0.5122\n",
            "Epoch 70/500\n",
            "489/489 [==============================] - 0s 69us/step - loss: 2.1408 - acc: 0.5971 - val_loss: 2.0605 - val_acc: 0.6341\n",
            "\n",
            "Epoch 00070: val_acc improved from 0.60976 to 0.63415, saving model to best-weights.hdf5\n",
            "Epoch 71/500\n",
            "489/489 [==============================] - 0s 77us/step - loss: 2.1275 - acc: 0.6094 - val_loss: 2.0592 - val_acc: 0.5854\n",
            "Epoch 72/500\n",
            "489/489 [==============================] - 0s 100us/step - loss: 2.0901 - acc: 0.5992 - val_loss: 2.0903 - val_acc: 0.6341\n",
            "Epoch 73/500\n",
            "489/489 [==============================] - 0s 80us/step - loss: 2.0070 - acc: 0.6483 - val_loss: 2.0727 - val_acc: 0.5610\n",
            "Epoch 74/500\n",
            "489/489 [==============================] - 0s 83us/step - loss: 2.0224 - acc: 0.6380 - val_loss: 2.0486 - val_acc: 0.6098\n",
            "Epoch 75/500\n",
            "489/489 [==============================] - 0s 80us/step - loss: 2.0649 - acc: 0.6380 - val_loss: 1.9965 - val_acc: 0.6098\n",
            "Epoch 76/500\n",
            "489/489 [==============================] - 0s 71us/step - loss: 1.9844 - acc: 0.6564 - val_loss: 2.0122 - val_acc: 0.5854\n",
            "Epoch 77/500\n",
            "489/489 [==============================] - 0s 76us/step - loss: 2.0154 - acc: 0.6299 - val_loss: 2.0755 - val_acc: 0.6585\n",
            "Epoch 78/500\n",
            "489/489 [==============================] - 0s 74us/step - loss: 2.0099 - acc: 0.6299 - val_loss: 2.0331 - val_acc: 0.5610\n",
            "Epoch 79/500\n",
            "489/489 [==============================] - 0s 79us/step - loss: 2.0129 - acc: 0.6503 - val_loss: 2.0474 - val_acc: 0.6098\n",
            "Epoch 80/500\n",
            "489/489 [==============================] - 0s 84us/step - loss: 1.9857 - acc: 0.6401 - val_loss: 2.0743 - val_acc: 0.6098\n",
            "\n",
            "Epoch 00080: val_acc did not improve from 0.63415\n",
            "Epoch 81/500\n",
            "489/489 [==============================] - 0s 73us/step - loss: 1.9316 - acc: 0.6851 - val_loss: 2.0427 - val_acc: 0.6098\n",
            "Epoch 82/500\n",
            "489/489 [==============================] - 0s 69us/step - loss: 1.9586 - acc: 0.6585 - val_loss: 2.0077 - val_acc: 0.5366\n",
            "Epoch 83/500\n",
            "489/489 [==============================] - 0s 83us/step - loss: 1.9933 - acc: 0.6626 - val_loss: 2.0459 - val_acc: 0.6098\n",
            "Epoch 84/500\n",
            "489/489 [==============================] - 0s 77us/step - loss: 1.9384 - acc: 0.6401 - val_loss: 2.0392 - val_acc: 0.5610\n",
            "Epoch 85/500\n",
            "489/489 [==============================] - 0s 71us/step - loss: 1.9700 - acc: 0.6503 - val_loss: 2.0161 - val_acc: 0.6341\n",
            "Epoch 86/500\n",
            "489/489 [==============================] - 0s 82us/step - loss: 1.9364 - acc: 0.6585 - val_loss: 2.0166 - val_acc: 0.5854\n",
            "Epoch 87/500\n",
            "489/489 [==============================] - 0s 80us/step - loss: 1.9558 - acc: 0.6401 - val_loss: 2.0510 - val_acc: 0.5366\n",
            "Epoch 88/500\n",
            "489/489 [==============================] - 0s 86us/step - loss: 1.9853 - acc: 0.6319 - val_loss: 1.9300 - val_acc: 0.5610\n",
            "Epoch 89/500\n",
            "489/489 [==============================] - 0s 81us/step - loss: 1.9256 - acc: 0.6667 - val_loss: 1.9733 - val_acc: 0.6829\n",
            "Epoch 90/500\n",
            "489/489 [==============================] - 0s 99us/step - loss: 2.0000 - acc: 0.6401 - val_loss: 1.9600 - val_acc: 0.5854\n",
            "\n",
            "Epoch 00090: val_acc did not improve from 0.63415\n",
            "Epoch 91/500\n",
            "489/489 [==============================] - 0s 83us/step - loss: 1.9606 - acc: 0.6524 - val_loss: 1.9629 - val_acc: 0.5610\n",
            "Epoch 92/500\n",
            "489/489 [==============================] - 0s 76us/step - loss: 1.9381 - acc: 0.6401 - val_loss: 1.9737 - val_acc: 0.6098\n",
            "Epoch 93/500\n",
            "489/489 [==============================] - 0s 76us/step - loss: 1.8945 - acc: 0.6728 - val_loss: 1.9419 - val_acc: 0.6341\n",
            "Epoch 94/500\n",
            "489/489 [==============================] - 0s 74us/step - loss: 1.9145 - acc: 0.6687 - val_loss: 1.9683 - val_acc: 0.6341\n",
            "Epoch 95/500\n",
            "489/489 [==============================] - 0s 82us/step - loss: 1.8932 - acc: 0.6769 - val_loss: 1.9342 - val_acc: 0.5854\n",
            "Epoch 96/500\n",
            "489/489 [==============================] - 0s 83us/step - loss: 1.8993 - acc: 0.6626 - val_loss: 1.9353 - val_acc: 0.5610\n",
            "Epoch 97/500\n",
            "489/489 [==============================] - 0s 88us/step - loss: 1.8936 - acc: 0.6585 - val_loss: 1.9117 - val_acc: 0.6585\n",
            "Epoch 98/500\n",
            "489/489 [==============================] - 0s 79us/step - loss: 1.9331 - acc: 0.6667 - val_loss: 1.9566 - val_acc: 0.5854\n",
            "Epoch 99/500\n",
            "489/489 [==============================] - 0s 80us/step - loss: 1.9064 - acc: 0.6503 - val_loss: 1.9225 - val_acc: 0.5854\n",
            "Epoch 100/500\n",
            "489/489 [==============================] - 0s 76us/step - loss: 1.9064 - acc: 0.6401 - val_loss: 1.8946 - val_acc: 0.6341\n",
            "\n",
            "Epoch 00100: val_acc improved from 0.63415 to 0.63415, saving model to best-weights.hdf5\n",
            "Epoch 101/500\n",
            "489/489 [==============================] - 0s 78us/step - loss: 1.9142 - acc: 0.6544 - val_loss: 1.9558 - val_acc: 0.6341\n",
            "Epoch 102/500\n",
            "489/489 [==============================] - 0s 85us/step - loss: 1.8733 - acc: 0.6708 - val_loss: 1.9508 - val_acc: 0.6341\n",
            "Epoch 103/500\n",
            "489/489 [==============================] - 0s 79us/step - loss: 1.8929 - acc: 0.6667 - val_loss: 1.9313 - val_acc: 0.5854\n",
            "Epoch 104/500\n",
            "489/489 [==============================] - 0s 80us/step - loss: 1.8797 - acc: 0.6769 - val_loss: 1.9061 - val_acc: 0.5610\n",
            "Epoch 105/500\n",
            "489/489 [==============================] - 0s 78us/step - loss: 1.8921 - acc: 0.6789 - val_loss: 1.9152 - val_acc: 0.5610\n",
            "Epoch 106/500\n",
            "489/489 [==============================] - 0s 78us/step - loss: 1.8595 - acc: 0.6299 - val_loss: 1.8934 - val_acc: 0.5854\n",
            "Epoch 107/500\n",
            "489/489 [==============================] - 0s 86us/step - loss: 1.8205 - acc: 0.6789 - val_loss: 1.8567 - val_acc: 0.5854\n",
            "Epoch 108/500\n",
            "489/489 [==============================] - 0s 85us/step - loss: 1.8377 - acc: 0.6585 - val_loss: 1.9259 - val_acc: 0.5854\n",
            "Epoch 109/500\n",
            "489/489 [==============================] - 0s 76us/step - loss: 1.8461 - acc: 0.6646 - val_loss: 1.8865 - val_acc: 0.6098\n",
            "Epoch 110/500\n",
            "489/489 [==============================] - 0s 84us/step - loss: 1.8754 - acc: 0.6401 - val_loss: 1.8982 - val_acc: 0.5854\n",
            "\n",
            "Epoch 00110: val_acc did not improve from 0.63415\n",
            "Epoch 111/500\n",
            "489/489 [==============================] - 0s 88us/step - loss: 1.8136 - acc: 0.6646 - val_loss: 1.8285 - val_acc: 0.5854\n",
            "Epoch 112/500\n",
            "489/489 [==============================] - 0s 78us/step - loss: 1.8212 - acc: 0.6728 - val_loss: 1.9247 - val_acc: 0.5610\n",
            "Epoch 113/500\n",
            "489/489 [==============================] - 0s 74us/step - loss: 1.8605 - acc: 0.6605 - val_loss: 1.9126 - val_acc: 0.5610\n",
            "Epoch 114/500\n",
            "489/489 [==============================] - 0s 72us/step - loss: 1.7873 - acc: 0.6933 - val_loss: 1.8321 - val_acc: 0.6341\n",
            "Epoch 115/500\n",
            "489/489 [==============================] - 0s 76us/step - loss: 1.7891 - acc: 0.6564 - val_loss: 1.8604 - val_acc: 0.6098\n",
            "Epoch 116/500\n",
            "489/489 [==============================] - 0s 75us/step - loss: 1.7764 - acc: 0.6748 - val_loss: 1.8948 - val_acc: 0.5610\n",
            "Epoch 117/500\n",
            "489/489 [==============================] - 0s 88us/step - loss: 1.8539 - acc: 0.6626 - val_loss: 1.8702 - val_acc: 0.5854\n",
            "Epoch 118/500\n",
            "489/489 [==============================] - 0s 89us/step - loss: 1.7801 - acc: 0.6789 - val_loss: 1.8672 - val_acc: 0.5854\n",
            "Epoch 119/500\n",
            "489/489 [==============================] - 0s 78us/step - loss: 1.8072 - acc: 0.6544 - val_loss: 1.8686 - val_acc: 0.6098\n",
            "Epoch 120/500\n",
            "489/489 [==============================] - 0s 80us/step - loss: 1.7942 - acc: 0.6667 - val_loss: 1.9151 - val_acc: 0.6098\n",
            "\n",
            "Epoch 00120: val_acc did not improve from 0.63415\n",
            "Epoch 121/500\n",
            "489/489 [==============================] - 0s 82us/step - loss: 1.8505 - acc: 0.6524 - val_loss: 1.8792 - val_acc: 0.6585\n",
            "Epoch 122/500\n",
            "489/489 [==============================] - 0s 75us/step - loss: 1.7628 - acc: 0.6871 - val_loss: 1.8784 - val_acc: 0.6341\n",
            "Epoch 123/500\n",
            "489/489 [==============================] - 0s 83us/step - loss: 1.8384 - acc: 0.6708 - val_loss: 1.8938 - val_acc: 0.5610\n",
            "Epoch 124/500\n",
            "489/489 [==============================] - 0s 78us/step - loss: 1.8158 - acc: 0.6483 - val_loss: 1.9193 - val_acc: 0.6098\n",
            "Epoch 125/500\n",
            "489/489 [==============================] - 0s 86us/step - loss: 1.7904 - acc: 0.6462 - val_loss: 1.8732 - val_acc: 0.5854\n",
            "Epoch 126/500\n",
            "489/489 [==============================] - 0s 81us/step - loss: 1.7907 - acc: 0.6503 - val_loss: 1.8828 - val_acc: 0.6098\n",
            "Epoch 127/500\n",
            "489/489 [==============================] - 0s 76us/step - loss: 1.7799 - acc: 0.6483 - val_loss: 1.7885 - val_acc: 0.6341\n",
            "Epoch 128/500\n",
            "489/489 [==============================] - 0s 81us/step - loss: 1.7631 - acc: 0.6851 - val_loss: 1.8629 - val_acc: 0.6098\n",
            "Epoch 129/500\n",
            "489/489 [==============================] - 0s 77us/step - loss: 1.7878 - acc: 0.6769 - val_loss: 1.8354 - val_acc: 0.6098\n",
            "Epoch 130/500\n",
            "489/489 [==============================] - 0s 83us/step - loss: 1.7499 - acc: 0.6994 - val_loss: 1.8156 - val_acc: 0.6098\n",
            "\n",
            "Epoch 00130: val_acc did not improve from 0.63415\n",
            "Epoch 131/500\n",
            "489/489 [==============================] - 0s 84us/step - loss: 1.7579 - acc: 0.6646 - val_loss: 1.8358 - val_acc: 0.5610\n",
            "Epoch 132/500\n",
            "489/489 [==============================] - 0s 86us/step - loss: 1.7689 - acc: 0.6564 - val_loss: 1.7946 - val_acc: 0.6341\n",
            "Epoch 133/500\n",
            "489/489 [==============================] - 0s 76us/step - loss: 1.7160 - acc: 0.6748 - val_loss: 1.8074 - val_acc: 0.6098\n",
            "Epoch 134/500\n",
            "489/489 [==============================] - 0s 79us/step - loss: 1.7197 - acc: 0.6892 - val_loss: 1.7646 - val_acc: 0.6098\n",
            "Epoch 135/500\n",
            "489/489 [==============================] - 0s 91us/step - loss: 1.7824 - acc: 0.6524 - val_loss: 1.8589 - val_acc: 0.6098\n",
            "Epoch 136/500\n",
            "489/489 [==============================] - 0s 86us/step - loss: 1.7979 - acc: 0.6728 - val_loss: 1.8491 - val_acc: 0.6098\n",
            "Epoch 137/500\n",
            "489/489 [==============================] - 0s 78us/step - loss: 1.7011 - acc: 0.6810 - val_loss: 1.7918 - val_acc: 0.6341\n",
            "Epoch 138/500\n",
            "489/489 [==============================] - 0s 82us/step - loss: 1.7424 - acc: 0.6708 - val_loss: 1.7995 - val_acc: 0.5854\n",
            "Epoch 139/500\n",
            "489/489 [==============================] - 0s 79us/step - loss: 1.8154 - acc: 0.6462 - val_loss: 1.7832 - val_acc: 0.5854\n"
          ],
          "name": "stdout"
        }
      ]
    },
    {
      "cell_type": "code",
      "metadata": {
        "id": "ijh4PwOHCWWX",
        "colab_type": "code",
        "outputId": "cb626d5a-7114-47ea-973f-c01657ea8b0d",
        "colab": {
          "base_uri": "https://localhost:8080/",
          "height": 34
        }
      },
      "source": [
        "print (h.history.keys())"
      ],
      "execution_count": 0,
      "outputs": [
        {
          "output_type": "stream",
          "text": [
            "dict_keys(['val_loss', 'val_acc', 'loss', 'acc'])\n"
          ],
          "name": "stdout"
        }
      ]
    },
    {
      "cell_type": "code",
      "metadata": {
        "id": "pYxIf2TLCWWa",
        "colab_type": "code",
        "outputId": "79882250-81ec-43a3-f1e2-a8d92322e122",
        "colab": {
          "base_uri": "https://localhost:8080/",
          "height": 85
        }
      },
      "source": [
        "accuracy = model.evaluate(x_test, y_test)\n",
        "print(f\"Validation Accuracy UNTRAINED: {h.history['val_acc'][-1]:.02f}\")\n",
        "print(f\"Final Loss on Testing Data UNTRAINED: {accuracy[0]:02f}\")\n",
        "print(f\"Final Untrained Test ACCURACY: {accuracy[1]:02f}\")"
      ],
      "execution_count": 0,
      "outputs": [
        {
          "output_type": "stream",
          "text": [
            "123/123 [==============================] - 0s 106us/step\n",
            "Validation Accuracy UNTRAINED: 0.59\n",
            "Final Loss on Testing Data UNTRAINED: 2.083742\n",
            "Final Untrained Test ACCURACY: 0.634146\n"
          ],
          "name": "stdout"
        }
      ]
    },
    {
      "cell_type": "code",
      "metadata": {
        "id": "mPZx0rCSNo8b",
        "colab_type": "code",
        "outputId": "843a7785-aaf4-41a5-c7e6-3ebd54e55023",
        "colab": {
          "base_uri": "https://localhost:8080/",
          "height": 85
        }
      },
      "source": [
        "model.load_weights(\"best-weights.hdf5\")\n",
        "accuracy = model.evaluate(x_test, y_test)\n",
        "print(f\"Validation Accuracy UNTRAINED: {h.history['val_acc'][-1]:.02f}\")\n",
        "print(f\"Final Loss on Testing Data TRAINED: {accuracy[0]:02f}\")\n",
        "print(f\"Final Trained Test ACCURACY: {accuracy[1]:02f}\")"
      ],
      "execution_count": 0,
      "outputs": [
        {
          "output_type": "stream",
          "text": [
            "123/123 [==============================] - 0s 62us/step\n",
            "Validation Accuracy UNTRAINED: 0.59\n",
            "Final Loss on Testing Data TRAINED: 2.060259\n",
            "Final Trained Test ACCURACY: 0.617886\n"
          ],
          "name": "stdout"
        }
      ]
    },
    {
      "cell_type": "markdown",
      "metadata": {
        "id": "YiDnje2aCWWd",
        "colab_type": "text"
      },
      "source": [
        "## Graphs\n",
        "The first is of accuracy vs time and the other is of loss vs. time."
      ]
    },
    {
      "cell_type": "code",
      "metadata": {
        "id": "8QZfyzkLCWWe",
        "colab_type": "code",
        "outputId": "70b3210d-02af-45e2-857b-39e34ccca1be",
        "colab": {
          "base_uri": "https://localhost:8080/",
          "height": 295
        }
      },
      "source": [
        "##ACCURACY GRAPH\n",
        "plt.plot(h.history['acc'])\n",
        "plt.plot(h.history['val_acc'])\n",
        "plt.title('model accuracy')\n",
        "plt.ylabel('accuracy')\n",
        "plt.xlabel('epoch')\n",
        "plt.legend(['train', 'test'], loc='upper left')\n",
        "plt.show()"
      ],
      "execution_count": 0,
      "outputs": [
        {
          "output_type": "display_data",
          "data": {
            "image/png": "[encoded data removed]",
            "text/plain": [
              "<Figure size 432x288 with 1 Axes>"
            ]
          },
          "metadata": {
            "tags": []
          }
        }
      ]
    },
    {
      "cell_type": "code",
      "metadata": {
        "id": "A8nlTRvVCWWh",
        "colab_type": "code",
        "outputId": "40384039-4305-4805-9634-f7297a8637af",
        "colab": {
          "base_uri": "https://localhost:8080/",
          "height": 295
        }
      },
      "source": [
        "##LOSS GRAPH\n",
        "plt.plot(h.history['loss'])\n",
        "plt.plot(h.history['val_loss'])\n",
        "plt.title('model loss')\n",
        "plt.ylabel('loss')\n",
        "plt.xlabel('epoch')\n",
        "plt.legend(['train', 'test'], loc='upper left')\n",
        "plt.show()"
      ],
      "execution_count": 0,
      "outputs": [
        {
          "output_type": "display_data",
          "data": {
            "image/png": "[encoded data removed]",
            "text/plain": [
              "<Figure size 432x288 with 1 Axes>"
            ]
          },
          "metadata": {
            "tags": []
          }
        }
      ]
    }
  ]
}